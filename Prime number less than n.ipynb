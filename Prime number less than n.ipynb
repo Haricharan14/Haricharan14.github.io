{
  "nbformat": 4,
  "nbformat_minor": 0,
  "metadata": {
    "colab": {
      "provenance": [],
      "authorship_tag": "ABX9TyP4G+zbwHXi4rnw7jB6auHn",
      "include_colab_link": true
    },
    "kernelspec": {
      "name": "python3",
      "display_name": "Python 3"
    },
    "language_info": {
      "name": "python"
    }
  },
  "cells": [
    {
      "cell_type": "markdown",
      "metadata": {
        "id": "view-in-github",
        "colab_type": "text"
      },
      "source": [
        "<a href=\"https://colab.research.google.com/github/Haricharan14/Haricharan14.github.io/blob/main/Prime%20number%20less%20than%20n.ipynb\" target=\"_parent\"><img src=\"https://colab.research.google.com/assets/colab-badge.svg\" alt=\"Open In Colab\"/></a>"
      ]
    },
    {
      "cell_type": "code",
      "execution_count": null,
      "metadata": {
        "id": "h8WnvtTT73Vx"
      },
      "outputs": [],
      "source": [
        "#Hare Krishna\n"
      ]
    },
    {
      "cell_type": "code",
      "source": [
        "n=int(input())\n",
        "count=0\n",
        "for i in range(2,n+1):\n",
        "  flag=True\n",
        "  for j in range(2,i):\n",
        "    if i%j==0:\n",
        "      flag=False\n",
        "      break\n",
        "  if flag==True:\n",
        "      count=count+1\n",
        "print(count)\n",
        ""
      ],
      "metadata": {
        "colab": {
          "base_uri": "https://localhost:8080/"
        },
        "id": "JaxPVfP076pA",
        "outputId": "d0290039-b605-4632-ffbb-4fdad24719ee"
      },
      "execution_count": 7,
      "outputs": [
        {
          "output_type": "stream",
          "name": "stdout",
          "text": [
            "18\n",
            "7\n"
          ]
        }
      ]
    },
    {
      "cell_type": "code",
      "source": [
        "n = 18\n",
        "count = 0\n",
        "for i in range(2, n + 1):\n",
        "    flag = True\n",
        "    for j in range(2, i):\n",
        "        if i % j == 0:\n",
        "            flag = False\n",
        "            break\n",
        "    if flag:\n",
        "        count += 1\n",
        "print(count)\n",
        "\n"
      ],
      "metadata": {
        "colab": {
          "base_uri": "https://localhost:8080/"
        },
        "id": "4e4Bxonr8FJs",
        "outputId": "0bc49033-ce59-4086-ef38-ebb188893047"
      },
      "execution_count": 6,
      "outputs": [
        {
          "output_type": "stream",
          "name": "stdout",
          "text": [
            "7\n"
          ]
        }
      ]
    },
    {
      "cell_type": "markdown",
      "source": [
        "#In the modified code with the range of j up to n + 1, the inner loop will always find a factor (the number itself) for any i greater than 2. As a result, the modified code will incorrectly determine that all numbers are not prime, and the count will be 0."
      ],
      "metadata": {
        "id": "8IZ2D9QQDR_I"
      }
    }
  ]
}